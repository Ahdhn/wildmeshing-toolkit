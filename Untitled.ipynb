{
   "cells": [
      {
         "cell_type": "code",
         "execution_count": 1,
         "id": "634be6fe",
         "metadata": {},
         "outputs": [],
         "source": [
            "import igl\n",
            "import meshplot as mp\n",
            "import numpy as np\n",
            "import numpy"
         ]
      },
      {
         "cell_type": "code",
         "execution_count": null,
         "id": "27cc194b",
         "metadata": {},
         "outputs": [],
         "source": []
      },
      {
         "cell_type": "code",
         "execution_count": 14,
         "id": "57d7e7a4",
         "metadata": {},
         "outputs": [],
         "source": [
            "x = np.array([-0.8827706929661269, -0.6519929351215331, 9.247272378580876, 2.9330053994372984, 1.0775504700138179, 9.913381643376622])\n",
            "\n",
            "v= np.reshape(x,(3,-1))\n",
            "v =np.concatenate((v, np.array([[0,0,0]]).T), axis=1)"
         ]
      },
      {
         "cell_type": "code",
         "execution_count": 16,
         "id": "9fa1f0cb",
         "metadata": {},
         "outputs": [
            {
               "name": "stderr",
               "output_type": "stream",
               "text": [
                  "/home/yunfan/miniconda3/envs/mrno/lib/python3.9/site-packages/jupyter_client/session.py:716: UserWarning: Message serialization failed with:\n",
                  "Out of range float values are not JSON compliant\n",
                  "Supporting this message is deprecated in jupyter-client 7, please make sure your message is JSON-compliant\n",
                  "  content = self.pack(content)\n"
               ]
            },
            {
               "data": {
                  "application/vnd.jupyter.widget-view+json": {
                     "model_id": "0a059f945e6a4a039d4619070dada109",
                     "version_major": 2,
                     "version_minor": 0
                  },
                  "text/plain": [
                     "Renderer(camera=PerspectiveCamera(children=(DirectionalLight(color='white', intensity=0.6, position=(4.1822508…"
                  ]
               },
               "metadata": {},
               "output_type": "display_data"
            },
            {
               "data": {
                  "text/plain": [
                     "array(99.99995144)"
                  ]
               },
               "execution_count": 16,
               "metadata": {},
               "output_type": "execute_result"
            }
         ],
         "source": [
            "f = np.array([[0,1,2]])\n",
            "mp.plot(v,f)\n",
            "igl.doublearea(v,f)"
         ]
      },
      {
         "cell_type": "code",
         "execution_count": 5,
         "id": "63e316f9",
         "metadata": {},
         "outputs": [
            {
               "data": {
                  "application/vnd.jupyter.widget-view+json": {
                     "model_id": "e0ec230917744dfba5410f7fa17481e1",
                     "version_major": 2,
                     "version_minor": 0
                  },
                  "text/plain": [
                     "Renderer(camera=PerspectiveCamera(children=(DirectionalLight(color='white', intensity=0.6, position=(2.2875651…"
                  ]
               },
               "metadata": {},
               "output_type": "display_data"
            }
         ],
         "source": [
            "v =np.array([\n",
            "    [-1.,0], [2,0.5], [0,8],\n",
            "    [-1, 0], [2, 0.5], [-0.5, 6],\n",
            "    [6.4147474557698905, 2.455426225469569], [4.578682676325524, 4.198069449383353], [5.019851731721005, 1.4389152738976378],\n",
            "    [-1.8396169564482243, 12.009685372207075], [-1.5605839589100907, 9.39133678096041], [0, 10],\n",
            "    [-1.1022086332116363, 7.508381656314784], [1.1839165118587502, 8.814995822805955], [0, 10],\n",
            "    [2.724507071757607, 9.99066953068107], [0.6100960139529511, 11.560024378263957], [0, 10],\n",
            "  [-0.8208337319907408, -0.9767324027331903], [2.0603600438388274, -0.015356551955219903], [-0.5006989465739714, 5.9997541134423304]])\n",
            "f = np.array([[0,1,2],[3,4,5],[18,19,20]])#,[6,7,8],[9,10,11],[12,13,14],[15,16,17],[18,19,20]])\n",
            "p = mp.plot(v,f,shading={\"wireframe\":True})"
         ]
      },
      {
         "cell_type": "code",
         "execution_count": 11,
         "id": "d5c9d3bb",
         "metadata": {},
         "outputs": [
            {
               "data": {
                  "text/plain": [
                     "array([ 23.5       , 100.        ,   4.29718554,   4.25598993,\n",
                     "         4.25598993,   4.25598993])"
                  ]
               },
               "execution_count": 11,
               "metadata": {},
               "output_type": "execute_result"
            }
         ],
         "source": [
            "igl.doublearea(v,f)"
         ]
      },
      {
         "cell_type": "code",
         "execution_count": 6,
         "id": "e6abffc8",
         "metadata": {},
         "outputs": [
            {
               "data": {
                  "text/plain": [
                     "2"
                  ]
               },
               "execution_count": 6,
               "metadata": {},
               "output_type": "execute_result"
            }
         ],
         "source": [
            "# p.add_points(np.array([v[0],v[1],v[2]]), shading={\"point_size\":1.0,\"point_color\":\"red\"})\n",
            "p.add_points(np.array([v[3],v[4],v[5]]), shading={\"point_size\":1.0,\"point_color\":\"blue\"})\n",
            "p.add_points(np.array([v[18],v[19],v[20]]), shading={\"point_size\":1.0,\"point_color\":\"green\"})\n"
         ]
      },
      {
         "cell_type": "code",
         "execution_count": 49,
         "id": "e197c5af",
         "metadata": {},
         "outputs": [
            {
               "data": {
                  "text/plain": [
                     "6"
                  ]
               },
               "execution_count": 49,
               "metadata": {},
               "output_type": "execute_result"
            }
         ],
         "source": [
            "p.add_points(np.array([v[6],v[7],v[8]]), shading={\"point_size\":1.0,\"point_color\":\"blue\"})\n",
            "p.add_points(np.array([v[9],v[10],v[11]]), shading={\"point_size\":1.0,\"point_color\":\"orange\"})\n",
            "p.add_points(np.array([v[12],v[13],v[14]]), shading={\"point_size\":1.0,\"point_color\":\"green\"})"
         ]
      },
      {
         "cell_type": "code",
         "execution_count": 20,
         "id": "fb1ec7be",
         "metadata": {},
         "outputs": [
            {
               "name": "stdout",
               "output_type": "stream",
               "text": [
                  "[[ 4.   4.   1. ]\n",
                  " [ 3.5  7.   1. ]\n",
                  " [-4.   5.   1. ]]\n"
               ]
            }
         ],
         "source": [
            "r = np.array([[0, -1,4],[1,0,5],[0,0,1]])\n",
            "t1 = np.array([[-1, 0,1], [2, 0.5,1], [0, 8,1]])\n",
            "t2 = (r@t1.T).T\n",
            "print(t2)"
         ]
      },
      {
         "cell_type": "code",
         "execution_count": 8,
         "id": "a920b0e7",
         "metadata": {},
         "outputs": [
            {
               "data": {
                  "text/plain": [
                     "3"
                  ]
               },
               "execution_count": 8,
               "metadata": {},
               "output_type": "execute_result"
            }
         ],
         "source": [
            "p.add_points(t1, shading={\"point_size\":1.0,\"point_color\":\"red\"})"
         ]
      },
      {
         "cell_type": "code",
         "execution_count": 9,
         "id": "99f2e6db",
         "metadata": {},
         "outputs": [
            {
               "data": {
                  "text/plain": [
                     "4"
                  ]
               },
               "execution_count": 9,
               "metadata": {},
               "output_type": "execute_result"
            }
         ],
         "source": [
            "p.add_points(t2, shading={\"point_size\":1.0,\"point_color\":\"blue\"})"
         ]
      },
      {
         "cell_type": "code",
         "execution_count": 21,
         "id": "15ef67e1",
         "metadata": {},
         "outputs": [
            {
               "name": "stdout",
               "output_type": "stream",
               "text": [
                  "[[ 4.   4. ]\n",
                  " [ 3.5  7. ]\n",
                  " [-4.   5. ]]\n"
               ]
            }
         ],
         "source": [
            "t2 = t2[:,0:2]\n",
            "print(t2)"
         ]
      },
      {
         "cell_type": "code",
         "execution_count": 47,
         "id": "596d5a8e",
         "metadata": {},
         "outputs": [],
         "source": [
            "J =np.array([[-0.617021 ,-0.297872], [2.56383, -0.382979]])\n",
            "Ds = np.array([[3 ,  1],\n",
            "               [0.5, 8]])\n",
            "Dm = np.array([[-1,   2],\n",
            "               [-8,-7.5]])"
         ]
      },
      {
         "cell_type": "code",
         "execution_count": 111,
         "id": "84232d3f",
         "metadata": {},
         "outputs": [
            {
               "name": "stdout",
               "output_type": "stream",
               "text": [
                  "[[3.  0.5]\n",
                  " [1.  8. ]\n",
                  " [0.  0. ]]\n",
                  "[[-1.  -8. ]\n",
                  " [ 2.  -7.5]\n",
                  " [ 0.   0. ]]\n"
               ]
            }
         ],
         "source": [
            "Ds_tri = Ds.transpose()\n",
            "Dm_tri = Dm.transpose()\n",
            "Ds_tri = np.concatenate((Ds_tri,np.array([[0,0]])),axis =0 )\n",
            "Dm_tri = np.concatenate((Dm_tri,np.array([[0,0]])),axis =0 )\n",
            "print(Ds_tri)\n",
            "print(Dm_tri)\n"
         ]
      },
      {
         "cell_type": "code",
         "execution_count": 112,
         "id": "3d7b4088",
         "metadata": {},
         "outputs": [
            {
               "data": {
                  "text/plain": [
                     "2"
                  ]
               },
               "execution_count": 112,
               "metadata": {},
               "output_type": "execute_result"
            }
         ],
         "source": [
            "p.add_points(Ds_tri, shading={\"point_size\":1.0,\"point_color\":\"red\"})\n",
            "p.add_points(Dm_tri, shading={\"point_size\":1.0,\"point_color\":\"blue\"})"
         ]
      },
      {
         "cell_type": "code",
         "execution_count": 54,
         "id": "259d5e4a",
         "metadata": {},
         "outputs": [
            {
               "data": {
                  "text/plain": [
                     "array([[-0.31914894, -0.08510638],\n",
                     "       [ 0.34042553, -0.04255319]])"
                  ]
               },
               "execution_count": 54,
               "metadata": {},
               "output_type": "execute_result"
            }
         ],
         "source": [
            "numpy.linalg.inv(Dm)"
         ]
      },
      {
         "cell_type": "code",
         "execution_count": 59,
         "id": "8da03919",
         "metadata": {},
         "outputs": [],
         "source": [
            "J = Ds.dot(numpy.linalg.inv(Dm))"
         ]
      },
      {
         "cell_type": "code",
         "execution_count": 96,
         "id": "30437091",
         "metadata": {},
         "outputs": [
            {
               "name": "stdout",
               "output_type": "stream",
               "text": [
                  "(2, 2)\n",
                  "J IS REAL True\n",
                  "sum squared entries of J 7.1893390674513356\n",
                  "tr JTJ [[7.18933907]]\n"
               ]
            }
         ],
         "source": [
            "J = np.matrix(J)\n",
            "print(J.shape)\n",
            "\n",
            "print(\"J IS REAL\", np.allclose(J.T,J.H))\n",
            "\n",
            "sum_sq_entries = np.sum(np.power(J,2))\n",
            "print(\"sum squared entries of J\", sum_sq_entries)\n",
            "\n",
            "\n",
            "tr_JTJ = (J.H.dot(J)).trace()\n",
            "print(\"tr JTJ\",tr_JTJ)"
         ]
      },
      {
         "cell_type": "code",
         "execution_count": 63,
         "id": "b31a8d8c",
         "metadata": {},
         "outputs": [
            {
               "data": {
                  "text/plain": [
                     "array([[3. , 1. ],\n",
                     "       [0.5, 8. ]])"
                  ]
               },
               "execution_count": 63,
               "metadata": {},
               "output_type": "execute_result"
            }
         ],
         "source": [
            "J.dot(Dm)"
         ]
      },
      {
         "cell_type": "code",
         "execution_count": 77,
         "id": "dbb501d9",
         "metadata": {},
         "outputs": [
            {
               "data": {
                  "text/plain": [
                     "1.0"
                  ]
               },
               "execution_count": 77,
               "metadata": {},
               "output_type": "execute_result"
            }
         ],
         "source": [
            "numpy.linalg.det(J)"
         ]
      },
      {
         "cell_type": "code",
         "execution_count": 72,
         "id": "ff78824b",
         "metadata": {},
         "outputs": [
            {
               "data": {
                  "text/plain": [
                     "matrix([[7.18933907]])"
                  ]
               },
               "execution_count": 72,
               "metadata": {},
               "output_type": "execute_result"
            }
         ],
         "source": [
            "(J.H.dot(J)).trace()"
         ]
      },
      {
         "cell_type": "code",
         "execution_count": 78,
         "id": "9ab40d61",
         "metadata": {},
         "outputs": [],
         "source": [
            "e_val, e_vec = numpy.linalg.eig(J)"
         ]
      },
      {
         "cell_type": "code",
         "execution_count": 79,
         "id": "3bc0637e",
         "metadata": {},
         "outputs": [
            {
               "data": {
                  "text/plain": [
                     "array([-0.5+0.8660254j, -0.5-0.8660254j])"
                  ]
               },
               "execution_count": 79,
               "metadata": {},
               "output_type": "execute_result"
            }
         ],
         "source": [
            "e_val"
         ]
      },
      {
         "cell_type": "code",
         "execution_count": 98,
         "id": "26286bce",
         "metadata": {},
         "outputs": [
            {
               "data": {
                  "text/plain": [
                     "(-1.0000000000000002+0j)"
                  ]
               },
               "execution_count": 98,
               "metadata": {},
               "output_type": "execute_result"
            }
         ],
         "source": [
            "(e_val[0])**2 + (e_val[1])**2"
         ]
      },
      {
         "cell_type": "code",
         "execution_count": 97,
         "id": "ae42e1e3",
         "metadata": {},
         "outputs": [
            {
               "data": {
                  "text/plain": [
                     "(-1+0j)"
                  ]
               },
               "execution_count": 97,
               "metadata": {},
               "output_type": "execute_result"
            }
         ],
         "source": [
            "e_val[0] + e_val[1]"
         ]
      },
      {
         "cell_type": "code",
         "execution_count": null,
         "id": "b4e23fb1",
         "metadata": {},
         "outputs": [],
         "source": [
            "def array_to_v(a):\n",
            "    np.array()"
         ]
      },
      {
         "cell_type": "code",
         "execution_count": 19,
         "id": "5a2004f5",
         "metadata": {
            "scrolled": false
         },
         "outputs": [
            {
               "name": "stderr",
               "output_type": "stream",
               "text": [
                  "/home/yunfan/miniconda3/envs/mrno/lib/python3.9/site-packages/jupyter_client/session.py:716: UserWarning: Message serialization failed with:\n",
                  "Out of range float values are not JSON compliant\n",
                  "Supporting this message is deprecated in jupyter-client 7, please make sure your message is JSON-compliant\n",
                  "  content = self.pack(content)\n"
               ]
            },
            {
               "data": {
                  "application/vnd.jupyter.widget-view+json": {
                     "model_id": "4d1e056974b2408a81848bff6f24317f",
                     "version_major": 2,
                     "version_minor": 0
                  },
                  "text/plain": [
                     "Renderer(camera=PerspectiveCamera(children=(DirectionalLight(color='white', intensity=0.6, position=(-10.63187…"
                  ]
               },
               "metadata": {},
               "output_type": "display_data"
            },
            {
               "data": {
                  "text/plain": [
                     "array(1.)"
                  ]
               },
               "execution_count": 19,
               "metadata": {},
               "output_type": "execute_result"
            }
         ],
         "source": [
            "v= np.array([[27, 35], [-14, -46], [26, 33],[7, -6], [-43, 9], [49, -39],[8.231370243414531, -5.8519767857373735], [9.430754796762374, 5.128072121165235], [-70.26373677813739, -32.43238354732261]])\n",
            "f = np.array([[0,1,2]])\n",
            "p = mp.plot(v,f,shading={\"wireframe\":True})\n",
            "\n",
            "p.add_points(np.array([v[0],v[1],v[2]]), shading={\"point_size\":10.0,\"point_color\":\"red\"})\n",
            "# p.add_points(np.array([v[3],v[4],v[5]]), shading={\"point_size\":10.0,\"point_color\":\"blue\"})\n",
            "# p.add_points(np.array([v[6],v[7],v[8]]), shading={\"point_size\":10.0,\"point_color\":\"green\"})\n",
            "igl.doublearea(v,f)"
         ]
      },
      {
         "cell_type": "code",
         "execution_count": 21,
         "id": "c632e8ca",
         "metadata": {},
         "outputs": [
            {
               "data": {
                  "text/plain": [
                     "True"
                  ]
               },
               "execution_count": 21,
               "metadata": {},
               "output_type": "execute_result"
            }
         ],
         "source": [
            "a = v[1] - v[0]\n",
            "b = v[2] - v[0]\n",
            "longe = max(np.linalg.norm(a),np.linalg.norm(b))\n",
            "(np.cross(a,b)/longe -0.01)**2 < 1e-5"
         ]
      },
      {
         "cell_type": "code",
         "execution_count": 48,
         "id": "607e14c4",
         "metadata": {},
         "outputs": [
            {
               "data": {
                  "text/plain": [
                     "array([3324.        ,  168.        , 2094.02159414])"
                  ]
               },
               "execution_count": 48,
               "metadata": {},
               "output_type": "execute_result"
            }
         ],
         "source": [
            "igl.doublearea(v,f)"
         ]
      },
      {
         "cell_type": "code",
         "execution_count": 42,
         "id": "881e6ed7",
         "metadata": {},
         "outputs": [
            {
               "data": {
                  "text/plain": [
                     "array([[ 0.,  0.,  1.],\n",
                     "       [-0., -0., -1.]])"
                  ]
               },
               "execution_count": 42,
               "metadata": {},
               "output_type": "execute_result"
            }
         ],
         "source": [
            "igl.per_face_normals(v,f, v)\n"
         ]
      },
      {
         "cell_type": "code",
         "execution_count": 26,
         "id": "867d59f5",
         "metadata": {},
         "outputs": [
            {
               "data": {
                  "application/vnd.jupyter.widget-view+json": {
                     "model_id": "59b602c3f46c49bfba3951940e1d3e3b",
                     "version_major": 2,
                     "version_minor": 0
                  },
                  "text/plain": [
                     "Renderer(camera=PerspectiveCamera(children=(DirectionalLight(color='white', intensity=0.6, position=(1.0, 4.5,…"
                  ]
               },
               "metadata": {},
               "output_type": "display_data"
            },
            {
               "data": {
                  "text/plain": [
                     "<meshplot.Viewer.Viewer at 0x7f64c26afac0>"
                  ]
               },
               "execution_count": 26,
               "metadata": {},
               "output_type": "execute_result"
            }
         ],
         "source": [
            "v =np.array([[0,0],[5,-1],[-3,10],[0, 0],[2* 1/np.sqrt(np.sqrt(3)),0], [1/np.sqrt(np.sqrt(3)), np.sqrt(np.sqrt(3))],[-2.3513245891895935, 0.8052103585505924], [4.36012146128864, 3.8428651819363684], [-1.6262888591669835, 8.136321492917904]])\n",
            "f = np.array([[0,1,2],[3,4,5],[6,7,8]])\n",
            "mp.plot(v,f, shading ={\"wireframe\":True})"
         ]
      },
      {
         "cell_type": "code",
         "execution_count": 27,
         "id": "36cc0d1c",
         "metadata": {},
         "outputs": [
            {
               "data": {
                  "text/plain": [
                     "array([47.        ,  2.        , 46.99994859])"
                  ]
               },
               "execution_count": 27,
               "metadata": {},
               "output_type": "execute_result"
            }
         ],
         "source": [
            "igl.doublearea(v,f)"
         ]
      },
      {
         "cell_type": "code",
         "execution_count": 11,
         "id": "15ea56f9",
         "metadata": {},
         "outputs": [
            {
               "data": {
                  "text/plain": [
                     "1.4142135623730951"
                  ]
               },
               "execution_count": 11,
               "metadata": {},
               "output_type": "execute_result"
            }
         ],
         "source": [
            "np.sqrt(2)"
         ]
      },
      {
         "cell_type": "code",
         "execution_count": 30,
         "id": "128a36e0",
         "metadata": {},
         "outputs": [
            {
               "data": {
                  "application/vnd.jupyter.widget-view+json": {
                     "model_id": "06a892e207014945bc8fd388d2daa854",
                     "version_major": 2,
                     "version_minor": 0
                  },
                  "text/plain": [
                     "Renderer(camera=PerspectiveCamera(children=(DirectionalLight(color='white', intensity=0.6, position=(359.69641…"
                  ]
               },
               "metadata": {},
               "output_type": "display_data"
            },
            {
               "data": {
                  "text/plain": [
                     "<meshplot.Viewer.Viewer at 0x7f64c26b1700>"
                  ]
               },
               "execution_count": 30,
               "metadata": {},
               "output_type": "execute_result"
            }
         ],
         "source": [
            "v, f = igl.read_triangle_mesh(\"build_debug/test_heuristic.obj100057.obj\")\n",
            "mp.plot(v,f,shading={\"wireframe\":True})"
         ]
      },
      {
         "cell_type": "code",
         "execution_count": 4,
         "id": "7a08d8d7",
         "metadata": {},
         "outputs": [
            {
               "name": "stderr",
               "output_type": "stream",
               "text": [
                  "/home/yunfan/miniconda3/envs/mrno/lib/python3.9/site-packages/jupyter_client/session.py:716: UserWarning: Message serialization failed with:\n",
                  "Out of range float values are not JSON compliant\n",
                  "Supporting this message is deprecated in jupyter-client 7, please make sure your message is JSON-compliant\n",
                  "  content = self.pack(content)\n"
               ]
            },
            {
               "data": {
                  "application/vnd.jupyter.widget-view+json": {
                     "model_id": "6444ea62286e4da6ba17b7d7c85ffc7c",
                     "version_major": 2,
                     "version_minor": 0
                  },
                  "text/plain": [
                     "Renderer(camera=PerspectiveCamera(children=(DirectionalLight(color='white', intensity=0.6, position=(362.62052…"
                  ]
               },
               "metadata": {},
               "output_type": "display_data"
            },
            {
               "data": {
                  "text/plain": [
                     "<meshplot.Viewer.Viewer at 0x7f4c1bd7a400>"
                  ]
               },
               "execution_count": 4,
               "metadata": {},
               "output_type": "execute_result"
            }
         ],
         "source": [
            "v,f = igl.read_triangle_mesh(\"build_debug/test_heuristic.obj100057.obj\")\n",
            "mp.plot(v,f,shading ={\"wireframe\":True})"
         ]
      },
      {
         "cell_type": "code",
         "execution_count": 37,
         "id": "1345a68d",
         "metadata": {},
         "outputs": [
            {
               "data": {
                  "application/vnd.jupyter.widget-view+json": {
                     "model_id": "5596336b4b6642aba0881ec6ce3a6198",
                     "version_major": 2,
                     "version_minor": 0
                  },
                  "text/plain": [
                     "Renderer(camera=PerspectiveCamera(children=(DirectionalLight(color='white', intensity=0.6, position=(0.0, 0.0,…"
                  ]
               },
               "metadata": {},
               "output_type": "display_data"
            },
            {
               "data": {
                  "text/plain": [
                     "<meshplot.Viewer.Viewer at 0x7f64c2549910>"
                  ]
               },
               "execution_count": 37,
               "metadata": {},
               "output_type": "execute_result"
            }
         ],
         "source": [
            "v1,f1 = igl.upsample(v,f, 3)\n",
            "mp.plot(v1,f1,shading ={\"wireframe\":True})"
         ]
      },
      {
         "cell_type": "code",
         "execution_count": 2,
         "id": "fbdcb79a",
         "metadata": {},
         "outputs": [
            {
               "ename": "NameError",
               "evalue": "name 'v1' is not defined",
               "output_type": "error",
               "traceback": [
                  "\u001b[0;31m---------------------------------------------------------------------------\u001b[0m",
                  "\u001b[0;31mNameError\u001b[0m                                 Traceback (most recent call last)",
                  "Input \u001b[0;32mIn [2]\u001b[0m, in \u001b[0;36m<module>\u001b[0;34m\u001b[0m\n\u001b[0;32m----> 1\u001b[0m igl\u001b[38;5;241m.\u001b[39mwrite_obj(\u001b[38;5;124m\"\u001b[39m\u001b[38;5;124mupsampled_test_triwild.obj\u001b[39m\u001b[38;5;124m\"\u001b[39m,\u001b[43mv1\u001b[49m,f1)\n",
                  "\u001b[0;31mNameError\u001b[0m: name 'v1' is not defined"
               ]
            }
         ],
         "source": [
            "igl.write_obj(\"upsampled_test_triwild.obj\",v1,f1)"
         ]
      },
      {
         "cell_type": "code",
         "execution_count": 8,
         "id": "a8ea3fe4",
         "metadata": {},
         "outputs": [
            {
               "name": "stdout",
               "output_type": "stream",
               "text": [
                  "[[4.375   0.      0.     ]\n",
                  " [3.875   0.625   0.     ]\n",
                  " [3.59375 1.09375 0.     ]]\n"
               ]
            }
         ],
         "source": [
            "vs =np.array([[3.75, 0, 0], [3.875, 0.625, 0], [3.59375, 1.09375, 0],[3.75, 0, 0], [3.875, 0.625, 0], [4.375, 0, 0]])\n",
            "fs = np.array([[0,1,2],[3,4,5]])\n",
            "v= np.array( [4.375, 0, 3.875, 0.625, 3.59375, 1.09375])\n",
            "v= np.reshape(v,(3,-1))\n",
            "v =np.concatenate((v, np.array([[0,0,0]]).T), axis=1)\n",
            "\n",
            "print(v)"
         ]
      },
      {
         "cell_type": "code",
         "execution_count": 7,
         "id": "13bc8ddd",
         "metadata": {},
         "outputs": [],
         "source": [
            "f = np.array([[0,1,2]])"
         ]
      },
      {
         "cell_type": "code",
         "execution_count": 17,
         "id": "ed5daa7d",
         "metadata": {},
         "outputs": [
            {
               "name": "stdout",
               "output_type": "stream",
               "text": [
                  "[[-1.02325213 -1.04589003  0.        ]\n",
                  " [11.49990173  0.83513802  0.        ]\n",
                  " [ 1.2519985  11.2485007   0.        ]] [0 1 2]\n"
               ]
            },
            {
               "data": {
                  "application/vnd.jupyter.widget-view+json": {
                     "model_id": "214ea2111ddd4d92a0cef514c3f94666",
                     "version_major": 2,
                     "version_minor": 0
                  },
                  "text/plain": [
                     "Renderer(camera=PerspectiveCamera(children=(DirectionalLight(color='white', intensity=0.6, position=(5.2383248…"
                  ]
               },
               "metadata": {},
               "output_type": "display_data"
            },
            {
               "data": {
                  "text/plain": [
                     "1"
                  ]
               },
               "execution_count": 17,
               "metadata": {},
               "output_type": "execute_result"
            }
         ],
         "source": [
            "v,f = igl.read_triangle_mesh(\"build_debug/smoothing_symdi_test.obj\")\n",
            "print(v,f)\n",
            "p =mp.plot(v,np.array([f]),shading ={\"wireframe\":True})\n",
            "p.add_points(np.array([[0,0,0],[10,0,0],[0,10,0]]),shading ={\"point_size\":5.0})"
         ]
      },
      {
         "cell_type": "code",
         "execution_count": 18,
         "id": "b7c15e40",
         "metadata": {},
         "outputs": [
            {
               "ename": "NameError",
               "evalue": "name 'vs' is not defined",
               "output_type": "error",
               "traceback": [
                  "\u001b[0;31m---------------------------------------------------------------------------\u001b[0m",
                  "\u001b[0;31mNameError\u001b[0m                                 Traceback (most recent call last)",
                  "Input \u001b[0;32mIn [18]\u001b[0m, in \u001b[0;36m<module>\u001b[0;34m\u001b[0m\n\u001b[0;32m----> 1\u001b[0m mp\u001b[38;5;241m.\u001b[39mplot(\u001b[43mvs\u001b[49m,fs,shading \u001b[38;5;241m=\u001b[39m{\u001b[38;5;124m\"\u001b[39m\u001b[38;5;124mwireframe\u001b[39m\u001b[38;5;124m\"\u001b[39m:\u001b[38;5;28;01mTrue\u001b[39;00m})\n",
                  "\u001b[0;31mNameError\u001b[0m: name 'vs' is not defined"
               ]
            }
         ],
         "source": [
            "mp.plot(vs,fs,shading ={\"wireframe\":True})"
         ]
      },
      {
         "cell_type": "code",
         "execution_count": 41,
         "id": "2a655162",
         "metadata": {},
         "outputs": [
            {
               "data": {
                  "application/vnd.jupyter.widget-view+json": {
                     "model_id": "b1251469aa804de59b9c9493221b9431",
                     "version_major": 2,
                     "version_minor": 0
                  },
                  "text/plain": [
                     "Renderer(camera=PerspectiveCamera(children=(DirectionalLight(color='white', intensity=0.6, position=(1.5, 2.0,…"
                  ]
               },
               "metadata": {},
               "output_type": "display_data"
            }
         ],
         "source": [
            "v0 = np.array([0,3,5])\n",
            "v1 = np.array([4,8,7])\n",
            "v2 = np.array([-1,-4,-6])\n",
            "f = np.array([[0,1,2]])\n",
            "v = np.array([v0,v1,v2])\n",
            "p = mp.plot(v,f)\n",
            "\n"
         ]
      },
      {
         "cell_type": "code",
         "execution_count": 51,
         "id": "7978350c",
         "metadata": {},
         "outputs": [],
         "source": [
            "n = np.cross((v1-v0),(v2-v0))\n"
         ]
      },
      {
         "cell_type": "code",
         "execution_count": 2,
         "id": "4d0a696e",
         "metadata": {},
         "outputs": [
            {
               "ename": "NameError",
               "evalue": "name 'v1' is not defined",
               "output_type": "error",
               "traceback": [
                  "\u001b[0;31m---------------------------------------------------------------------------\u001b[0m",
                  "\u001b[0;31mNameError\u001b[0m                                 Traceback (most recent call last)",
                  "Input \u001b[0;32mIn [2]\u001b[0m, in \u001b[0;36m<module>\u001b[0;34m\u001b[0m\n\u001b[0;32m----> 1\u001b[0m T\u001b[38;5;241m=\u001b[39m np\u001b[38;5;241m.\u001b[39marray([\u001b[43mv1\u001b[49m\u001b[38;5;241m-\u001b[39mv0,v2\u001b[38;5;241m-\u001b[39mv0,n])\n\u001b[1;32m      3\u001b[0m p\u001b[38;5;241m.\u001b[39madd_lines(v0,T[\u001b[38;5;241m0\u001b[39m])\n\u001b[1;32m      4\u001b[0m p\u001b[38;5;241m.\u001b[39madd_lines(v0,T[\u001b[38;5;241m1\u001b[39m])\n",
                  "\u001b[0;31mNameError\u001b[0m: name 'v1' is not defined"
               ]
            }
         ],
         "source": [
            "T= np.array([v1-v0,v2-v0,n])\n",
            "\n",
            "p.add_lines(v0,T[0])\n",
            "p.add_lines(v0,T[1])\n",
            "p.add_lines(v0,T[2])"
         ]
      },
      {
         "cell_type": "code",
         "execution_count": 76,
         "id": "90975570",
         "metadata": {},
         "outputs": [
            {
               "data": {
                  "application/vnd.jupyter.widget-view+json": {
                     "model_id": "9d0b0579e8c34fbebb2c181d17acd348",
                     "version_major": 2,
                     "version_minor": 0
                  },
                  "text/plain": [
                     "Renderer(camera=PerspectiveCamera(children=(DirectionalLight(color='white', intensity=0.6, position=(5.0, 5.0,…"
                  ]
               },
               "metadata": {},
               "output_type": "display_data"
            }
         ],
         "source": [
            "\n",
            "v1 = np.array([0,0,0])\n",
            "v2 = np.array([10,0,0])\n",
            "v3 = np.array([0,10,0])\n",
            "f = np.array([[0,1,2]])\n",
            "v = np.array([v1,v2,v3])\n",
            "p = mp.plot(v,f)\n",
            "# p.add_points(np.array([[0,0],[10,0],[5,5*1.73]]), shading = {\"point_size\":1})\n",
            "\n",
            "# igl.doublearea(v,f)"
         ]
      },
      {
         "cell_type": "code",
         "execution_count": null,
         "id": "5bcfd990",
         "metadata": {},
         "outputs": [],
         "source": []
      },
      {
         "cell_type": "code",
         "execution_count": 23,
         "id": "919ce44a",
         "metadata": {},
         "outputs": [
            {
               "data": {
                  "text/plain": [
                     "2"
                  ]
               },
               "execution_count": 23,
               "metadata": {},
               "output_type": "execute_result"
            }
         ],
         "source": [
            "T= np.array([[1/2,0,1.73/2],[0,1,0],[-1.73/2,0,1/2]])\n",
            "v_trans = v.dot(T)\n",
            "p.add_mesh(v_trans,f)"
         ]
      },
      {
         "cell_type": "code",
         "execution_count": 78,
         "id": "8bee1679",
         "metadata": {},
         "outputs": [
            {
               "data": {
                  "text/plain": [
                     "2"
                  ]
               },
               "execution_count": 78,
               "metadata": {},
               "output_type": "execute_result"
            }
         ],
         "source": [
            "v,f = igl.read_triangle_mesh(\"build_debug/2.5smooth10.obj\")\n",
            "\n",
            "v[:,2] = 10*v[:,0]\n",
            "f = np.array([f])\n",
            "p.add_mesh(v,f,shading = {\"wireframe\":True})\n"
         ]
      },
      {
         "cell_type": "code",
         "execution_count": 13,
         "id": "ba55efe8",
         "metadata": {},
         "outputs": [
            {
               "name": "stderr",
               "output_type": "stream",
               "text": [
                  "/home/yunfan/miniconda3/envs/mrno/lib/python3.9/site-packages/jupyter_client/session.py:716: UserWarning: Message serialization failed with:\n",
                  "Out of range float values are not JSON compliant\n",
                  "Supporting this message is deprecated in jupyter-client 7, please make sure your message is JSON-compliant\n",
                  "  content = self.pack(content)\n"
               ]
            },
            {
               "data": {
                  "application/vnd.jupyter.widget-view+json": {
                     "model_id": "b6e5cbbf14da43d1b4ae648236c2a001",
                     "version_major": 2,
                     "version_minor": 0
                  },
                  "text/plain": [
                     "HBox(children=(Output(), Output()))"
                  ]
               },
               "metadata": {},
               "output_type": "display_data"
            }
         ],
         "source": [
            "v,f = igl.read_triangle_mesh(\"build_debug/after_split_0.obj\")\n",
            "\n",
            "p= mp.subplot(v,f,shading = {\"wireframe\":True}, s= [1,2,0])\n",
            "\n",
            "vp , fp = igl.read_triangle_mesh(\"build_debug/twoandahalf_dramatic_linear_1more.obj\")\n",
            "mp.subplot(v,f,shading = {\"wireframe\":True}, data = p,s= [1,2,1] )"
         ]
      },
      {
         "cell_type": "code",
         "execution_count": 13,
         "id": "812eeb10",
         "metadata": {},
         "outputs": [],
         "source": [
            "vn,fn,_,_= igl.remove_unreferenced(vn,fn)"
         ]
      },
      {
         "cell_type": "code",
         "execution_count": 15,
         "id": "26ca5a81",
         "metadata": {},
         "outputs": [
            {
               "data": {
                  "application/vnd.jupyter.widget-view+json": {
                     "model_id": "44138c62bdd0403c8ed30b0e32cf1d5f",
                     "version_major": 2,
                     "version_minor": 0
                  },
                  "text/plain": [
                     "Renderer(camera=PerspectiveCamera(children=(DirectionalLight(color='white', intensity=0.6, position=(4.6866555…"
                  ]
               },
               "metadata": {},
               "output_type": "display_data"
            },
            {
               "data": {
                  "text/plain": [
                     "array([0, 0, 0], dtype=int64)"
                  ]
               },
               "execution_count": 15,
               "metadata": {},
               "output_type": "execute_result"
            }
         ],
         "source": [
            "p= mp.plot(vn,fn,shading = {\"wireframe\":True})\n",
            "igl.write_triangle_mesh(\"debug_split.obj\", vn,fn)\n",
            "fn[1033]"
         ]
      },
      {
         "cell_type": "code",
         "execution_count": null,
         "id": "1e9a8858",
         "metadata": {},
         "outputs": [],
         "source": [
            "vn,fn= igl.remove_unreferenced"
         ]
      },
      {
         "cell_type": "code",
         "execution_count": 15,
         "id": "85a31852",
         "metadata": {},
         "outputs": [
            {
               "data": {
                  "application/vnd.jupyter.widget-view+json": {
                     "model_id": "9458a8e19fd24a7da9a667ac7984538c",
                     "version_major": 2,
                     "version_minor": 0
                  },
                  "text/plain": [
                     "HBox(children=(Output(), Output(), Output()))"
                  ]
               },
               "metadata": {},
               "output_type": "display_data"
            }
         ],
         "source": [
            "v,f = igl.read_triangle_mesh(\"build_debug/after_split_0.obj\")\n",
            "\n",
            "p= mp.subplot(v,f,shading = {\"wireframe\":True}, s= [1,3,0])\n",
            "\n",
            "vp , fp = igl.read_triangle_mesh(\"build_debug/after_collapse_0.obj\")\n",
            "mp.subplot(vp,fp,shading = {\"wireframe\":True}, data = p,s= [1,3,1] )\n",
            "v1 , f1 = igl.read_triangle_mesh(\"build_debug/after_swap_0.obj\")\n",
            "v1[:,2] = 0\n",
            "mp.subplot(v1,f1,shading = {\"wireframe\":True}, data = p,s= [1,3,2] )\n",
            "\n"
         ]
      },
      {
         "cell_type": "code",
         "execution_count": 3,
         "id": "d6e21896",
         "metadata": {},
         "outputs": [
            {
               "data": {
                  "application/vnd.jupyter.widget-view+json": {
                     "model_id": "53b3d383a2f1479ba0fdd1b3020180bb",
                     "version_major": 2,
                     "version_minor": 0
                  },
                  "text/plain": [
                     "Renderer(camera=PerspectiveCamera(children=(DirectionalLight(color='white', intensity=0.6, position=(4.6705865…"
                  ]
               },
               "metadata": {},
               "output_type": "display_data"
            }
         ],
         "source": [
            "v,f = igl.read_triangle_mesh(\"build_debug/twoandahalf_dramatic_linear_10more.obj\")\n",
            "# v2=np.concatenate(v,np.broadcast(v[:,0])\n",
            "p = mp.plot(v,f,shading ={\"wireframe\":True})\n"
         ]
      },
      {
         "cell_type": "code",
         "execution_count": 132,
         "id": "d8c2978b",
         "metadata": {},
         "outputs": [],
         "source": [
            "v = np.array([[9.493444516849916,  0.87634098584964548], [9.297820112154314, 1.2147712059730373], [9.2250886715998952,  1.3405965981321815],[8,0]])\n",
            "v2 =np.array([ [8.5073663030232307, 0.88164358598608861],  [9.493444516849916,  0.87634098584964548], [9.2250886715998952,  1.3405965981321815]])"
         ]
      },
      {
         "cell_type": "code",
         "execution_count": 141,
         "id": "b8662ac3",
         "metadata": {},
         "outputs": [
            {
               "data": {
                  "application/vnd.jupyter.widget-view+json": {
                     "model_id": "f96b40c0f7c34f95a56c9cb5ed964310",
                     "version_major": 2,
                     "version_minor": 0
                  },
                  "text/plain": [
                     "Renderer(camera=PerspectiveCamera(children=(DirectionalLight(color='white', intensity=0.6, position=(8.7467222…"
                  ]
               },
               "metadata": {},
               "output_type": "display_data"
            },
            {
               "data": {
                  "text/plain": [
                     "2"
                  ]
               },
               "execution_count": 141,
               "metadata": {},
               "output_type": "execute_result"
            }
         ],
         "source": [
            "p =mp.plot(v,np.array([0,1,2]))\n",
            "p.add_points(v,shading={\"point_size\":0.1})\n",
            "p.add_points(v2,shading={\"point_size\":0.1})\n"
         ]
      },
      {
         "cell_type": "code",
         "execution_count": 16,
         "id": "916f5f5e",
         "metadata": {
            "scrolled": false
         },
         "outputs": [
            {
               "name": "stderr",
               "output_type": "stream",
               "text": [
                  "/home/yunfan/miniconda3/envs/mrno/lib/python3.9/site-packages/jupyter_client/session.py:716: UserWarning: Message serialization failed with:\n",
                  "Out of range float values are not JSON compliant\n",
                  "Supporting this message is deprecated in jupyter-client 7, please make sure your message is JSON-compliant\n",
                  "  content = self.pack(content)\n"
               ]
            },
            {
               "data": {
                  "application/vnd.jupyter.widget-view+json": {
                     "model_id": "4016b5388c3144019b741ceafdc6cab7",
                     "version_major": 2,
                     "version_minor": 0
                  },
                  "text/plain": [
                     "Renderer(camera=PerspectiveCamera(children=(DirectionalLight(color='white', intensity=0.6, position=(4.8352131…"
                  ]
               },
               "metadata": {},
               "output_type": "display_data"
            }
         ],
         "source": [
            "v,f = igl.read_triangle_mesh(\"build_debug/twoandahalf_dramatic_linear_1more.obj\")\n",
            "\n",
            "p = mp.plot(v,f,shading ={\"wireframe\":True})"
         ]
      },
      {
         "cell_type": "code",
         "execution_count": 9,
         "id": "d4e0dee6",
         "metadata": {},
         "outputs": [
            {
               "name": "stdout",
               "output_type": "stream",
               "text": [
                  "[8.30307376 0.85476831 0.        ] [0.13764407 9.86235593 0.        ] [0.05312728 9.94687272 0.        ]\n"
               ]
            },
            {
               "data": {
                  "text/plain": [
                     "(0.053127284989691326, 9.946872715010308)"
                  ]
               },
               "execution_count": 9,
               "metadata": {},
               "output_type": "execute_result"
            }
         ],
         "source": [
            "f[2282]\n",
            "print(v[1196],v[1231],v[1994])\n",
            "0.24274137200620771,9.7572586279937922\n",
            "0.13764407435314041, 9.8623559256468595\n",
            "0.053127284989691326, 9.9468727150103077"
         ]
      },
      {
         "cell_type": "code",
         "execution_count": 30,
         "id": "fd98d04d",
         "metadata": {},
         "outputs": [
            {
               "data": {
                  "application/vnd.jupyter.widget-view+json": {
                     "model_id": "fe8202dd9daf4ffd86b8bd1cd99fefd7",
                     "version_major": 2,
                     "version_minor": 0
                  },
                  "text/plain": [
                     "Renderer(camera=PerspectiveCamera(children=(DirectionalLight(color='white', intensity=0.6, position=(8.5332107…"
                  ]
               },
               "metadata": {},
               "output_type": "display_data"
            },
            {
               "name": "stdout",
               "output_type": "stream",
               "text": [
                  "[[ 8.60681452  1.39318548 86.06814519]\n",
                  " [ 8.63936594  1.36063406 86.39365945]\n",
                  " [ 8.42705554  1.57294446 84.27055539]]\n"
               ]
            }
         ],
         "source": [
            "v,f = igl.read_triangle_mesh(\"build_debug/twoandahalf_edge_length_one_triangle_split+smooth_yesboundary.obj\")\n",
            "f = np.array([f])\n",
            "p = mp.plot(v,f,shading ={\"wireframe\":True})\n",
            "print(v)"
         ]
      }
   ],
   "metadata": {
      "kernelspec": {
         "display_name": "Python 3 (ipykernel)",
         "language": "python",
         "name": "python3"
      },
      "language_info": {
         "codemirror_mode": {
            "name": "ipython",
            "version": 3
         },
         "file_extension": ".py",
         "mimetype": "text/x-python",
         "name": "python",
         "nbconvert_exporter": "python",
         "pygments_lexer": "ipython3",
         "version": "3.9.9"
      }
   },
   "nbformat": 4,
   "nbformat_minor": 5
}